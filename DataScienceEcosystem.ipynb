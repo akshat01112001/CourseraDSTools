{
 "cells": [
  {
   "cell_type": "markdown",
   "id": "d931b66f-d4c9-42d8-9b80-098f01a2653e",
   "metadata": {},
   "source": [
    "# Data Science Tools and Ecosystem"
   ]
  },
  {
   "cell_type": "markdown",
   "id": "e66cf4d7-ab95-42eb-920a-4b4c73361f87",
   "metadata": {},
   "source": [
    "## In this notebook, Data Science Tools and Ecosystem are summarized."
   ]
  },
  {
   "cell_type": "markdown",
   "id": "566e832d-3ea5-4df4-bbcc-b21e4a385bac",
   "metadata": {},
   "source": [
    "### Objectives:\n",
    "\n",
    "- List popular languages for Data Science\n",
    "- Examples of arithmatic expressions\n",
    "- To use Markdown Cells"
   ]
  },
  {
   "cell_type": "markdown",
   "id": "26f61c72-9251-443d-b69a-efacb98d889f",
   "metadata": {},
   "source": [
    "### Some of the popular languages that Data Scientists use are:\n",
    "1. Python\n",
    "2. R\n",
    "3. Julia"
   ]
  },
  {
   "cell_type": "markdown",
   "id": "67f78df1-6a1b-4320-b5dd-506e4273e756",
   "metadata": {},
   "source": [
    "| Data Science Tools |\n",
    "| ---------------------- |\n",
    "| GitHub |\n",
    "| JupyterLab |\n",
    "| VSCode |"
   ]
  },
  {
   "cell_type": "markdown",
   "id": "44d5987a-d3d4-43f0-9462-23cd0e29e64a",
   "metadata": {
    "jp-MarkdownHeadingCollapsed": true
   },
   "source": [
    "### Below are a few examples of evaluating arithmetic expressions in Python"
   ]
  },
  {
   "cell_type": "code",
   "execution_count": 1,
   "id": "8e24cdd6-c16b-4e99-a515-0875f2850d56",
   "metadata": {},
   "outputs": [
    {
     "data": {
      "text/plain": [
       "17"
      ]
     },
     "execution_count": 1,
     "metadata": {},
     "output_type": "execute_result"
    }
   ],
   "source": [
    "# This a simple arithmetic expression to mutiply then add integers\n",
    "(3*4)+5"
   ]
  },
  {
   "cell_type": "code",
   "execution_count": 2,
   "id": "e1aca925-678a-42c5-93e8-15fb7ed9b013",
   "metadata": {},
   "outputs": [
    {
     "data": {
      "text/plain": [
       "3.3333333333333335"
      ]
     },
     "execution_count": 2,
     "metadata": {},
     "output_type": "execute_result"
    }
   ],
   "source": [
    "# This will convert 200 minutes to hours by diving by 60\n",
    "200/60"
   ]
  },
  {
   "cell_type": "markdown",
   "id": "c839bd83-8bc8-4342-b359-9dc99fc7c69c",
   "metadata": {},
   "source": [
    "## Author\n",
    "\n",
    "Akshat Kumar"
   ]
  },
  {
   "cell_type": "code",
   "execution_count": null,
   "id": "5b36257c-c24b-4ea6-9857-ca3be3ee13dd",
   "metadata": {},
   "outputs": [],
   "source": []
  }
 ],
 "metadata": {
  "kernelspec": {
   "display_name": "Python 3 (ipykernel)",
   "language": "python",
   "name": "python3"
  },
  "language_info": {
   "codemirror_mode": {
    "name": "ipython",
    "version": 3
   },
   "file_extension": ".py",
   "mimetype": "text/x-python",
   "name": "python",
   "nbconvert_exporter": "python",
   "pygments_lexer": "ipython3",
   "version": "3.12.7"
  }
 },
 "nbformat": 4,
 "nbformat_minor": 5
}
